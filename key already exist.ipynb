{
 "cells": [
  {
   "cell_type": "code",
   "execution_count": 5,
   "metadata": {},
   "outputs": [
    {
     "name": "stdout",
     "output_type": "stream",
     "text": [
      "[1]\n",
      "[1, 3]\n"
     ]
    }
   ],
   "source": [
    "# write apython program to identify duplicate values from list\n",
    "list1 = [1,3,2,1,1,3,5,6,7,8,1]\n",
    "duplicate = []\n",
    "for i in range(len(list1)):\n",
    "    for j in range(i+1, len(list1)):\n",
    "        if list1[i] == list1[j] and list1[i] not in duplicate:\n",
    "            duplicate.append(list1[i])\n",
    "            print(duplicate)"
   ]
  },
  {
   "cell_type": "code",
   "execution_count": 10,
   "metadata": {},
   "outputs": [
    {
     "name": "stdout",
     "output_type": "stream",
     "text": [
      "Enter a key:4\n",
      "key not exist\n"
     ]
    }
   ],
   "source": [
    "#Write a python program script to check if a given key already exist in a dictionary. \n",
    "myDict = {\n",
    "    1: \"PYTHON\",\n",
    "    2: \"C++\",\n",
    "    3: \"JAVA\",\n",
    "}\n",
    "k = int(input(\"Enter a key:\"))\n",
    "if k in myDict.keys():\n",
    "    print(\"Given key already exist\")\n",
    "else:\n",
    "    print(\"key not exist\")"
   ]
  },
  {
   "cell_type": "code",
   "execution_count": 11,
   "metadata": {},
   "outputs": [
    {
     "ename": "IndentationError",
     "evalue": "unexpected indent (<ipython-input-11-45b90e232c7d>, line 5)",
     "output_type": "error",
     "traceback": [
      "\u001b[0;36m  File \u001b[0;32m\"<ipython-input-11-45b90e232c7d>\"\u001b[0;36m, line \u001b[0;32m5\u001b[0m\n\u001b[0;31m    else:\u001b[0m\n\u001b[0m    ^\u001b[0m\n\u001b[0;31mIndentationError\u001b[0m\u001b[0;31m:\u001b[0m unexpected indent\n"
     ]
    }
   ],
   "source": [
    "d = {1: 10, 2: 20, 3: 30, 4: 40, 5: 50, 6: 60}\n",
    "def is_key_present(x):\n",
    "    if x in d:\n",
    "          print('key is present')\n",
    "            else:\n",
    "                print('Oops! Key is not present')\n",
    "    is_key_present(6)\n",
    "    is_key_present(21)"
   ]
  },
  {
   "cell_type": "code",
   "execution_count": null,
   "metadata": {},
   "outputs": [],
   "source": [
    "op =int(input(\"Enter operation\"))\n",
    "1: Addition\n",
    "2. Subtraction\n",
    "3. Multiplication\n",
    "4. Division\n",
    "5. Power\n",
    "num1= int(input(\"Enter First Number :\"))\n",
    "num2= int(input(\"Enter Second number :\"))\n",
    "res = 0\n",
    "if op == 1:\n",
    "    res= num1+num2\n",
    "    elif op == 2:\n",
    "    res= num1-num2\n",
    "    elif op == 3:\n",
    "    res = num1*num2\n",
    "    elif op ==4:\n",
    "    res=num1/num2\n",
    "    elif op= 5:\n",
    "    res = pow(num1,num2)\n",
    "    else:\n",
    "             print(\"Invalid Operation\")\n",
    "        print(f\"Result = {res}\")"
   ]
  },
  {
   "cell_type": "code",
   "execution_count": null,
   "metadata": {},
   "outputs": [],
   "source": []
  },
  {
   "cell_type": "code",
   "execution_count": null,
   "metadata": {},
   "outputs": [],
   "source": []
  }
 ],
 "metadata": {
  "kernelspec": {
   "display_name": "Python 3",
   "language": "python",
   "name": "python3"
  },
  "language_info": {
   "codemirror_mode": {
    "name": "ipython",
    "version": 3
   },
   "file_extension": ".py",
   "mimetype": "text/x-python",
   "name": "python",
   "nbconvert_exporter": "python",
   "pygments_lexer": "ipython3",
   "version": "3.6.7"
  }
 },
 "nbformat": 4,
 "nbformat_minor": 2
}
