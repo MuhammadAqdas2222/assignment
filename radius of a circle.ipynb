{
 "cells": [
  {
   "cell_type": "code",
   "execution_count": 1,
   "metadata": {},
   "outputs": [
    {
     "name": "stdout",
     "output_type": "stream",
     "text": [
      "Input the radius of a circle : 6\n",
      "The area of a circle with radius 6.0 is: 113.09733552923255\n"
     ]
    }
   ],
   "source": [
    "from math import pi\n",
    "r= float(input(\"Input the radius of a circle : \"))\n",
    "print(\"The area of a circle with radius \" + str(r) + \" is: \" + str(pi * r**2))"
   ]
  }
 ],
 "metadata": {
  "kernelspec": {
   "display_name": "Python 3",
   "language": "python",
   "name": "python3"
  },
  "language_info": {
   "codemirror_mode": {
    "name": "ipython",
    "version": 3
   },
   "file_extension": ".py",
   "mimetype": "text/x-python",
   "name": "python",
   "nbconvert_exporter": "python",
   "pygments_lexer": "ipython3",
   "version": "3.6.7"
  }
 },
 "nbformat": 4,
 "nbformat_minor": 2
}
